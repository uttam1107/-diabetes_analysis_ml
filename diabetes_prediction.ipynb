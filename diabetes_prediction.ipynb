{
 "cells": [
  {
   "cell_type": "markdown",
   "id": "d265b450",
   "metadata": {},
   "source": [
    "# Importing Libraries"
   ]
  },
  {
   "cell_type": "code",
   "execution_count": 1,
   "id": "353f4687",
   "metadata": {},
   "outputs": [],
   "source": [
    "import numpy as np\n",
    "import pandas as pd\n",
    "import matplotlib.pyplot as plt\n",
    "%matplotlib inline\n",
    "import seaborn as sns\n",
    "import warnings\n",
    "warnings.filterwarnings('ignore')"
   ]
  },
  {
   "cell_type": "markdown",
   "id": "a978e51c",
   "metadata": {},
   "source": [
    "# Reading From Dataset"
   ]
  },
  {
   "cell_type": "code",
   "execution_count": 2,
   "id": "60ef9b26",
   "metadata": {},
   "outputs": [],
   "source": [
    "data=pd.read_csv('diabetes.csv')"
   ]
  },
  {
   "cell_type": "code",
   "execution_count": 3,
   "id": "345981d0",
   "metadata": {},
   "outputs": [
    {
     "data": {
      "text/html": [
       "<div>\n",
       "<style scoped>\n",
       "    .dataframe tbody tr th:only-of-type {\n",
       "        vertical-align: middle;\n",
       "    }\n",
       "\n",
       "    .dataframe tbody tr th {\n",
       "        vertical-align: top;\n",
       "    }\n",
       "\n",
       "    .dataframe thead th {\n",
       "        text-align: right;\n",
       "    }\n",
       "</style>\n",
       "<table border=\"1\" class=\"dataframe\">\n",
       "  <thead>\n",
       "    <tr style=\"text-align: right;\">\n",
       "      <th></th>\n",
       "      <th>Pregnancies</th>\n",
       "      <th>Glucose</th>\n",
       "      <th>BloodPressure</th>\n",
       "      <th>SkinThickness</th>\n",
       "      <th>Insulin</th>\n",
       "      <th>BMI</th>\n",
       "      <th>DiabetesPedigreeFunction</th>\n",
       "      <th>Age</th>\n",
       "      <th>Outcome</th>\n",
       "    </tr>\n",
       "  </thead>\n",
       "  <tbody>\n",
       "    <tr>\n",
       "      <th>0</th>\n",
       "      <td>6</td>\n",
       "      <td>148</td>\n",
       "      <td>72</td>\n",
       "      <td>35</td>\n",
       "      <td>0</td>\n",
       "      <td>33.6</td>\n",
       "      <td>0.627</td>\n",
       "      <td>50</td>\n",
       "      <td>1</td>\n",
       "    </tr>\n",
       "    <tr>\n",
       "      <th>1</th>\n",
       "      <td>1</td>\n",
       "      <td>85</td>\n",
       "      <td>66</td>\n",
       "      <td>29</td>\n",
       "      <td>0</td>\n",
       "      <td>26.6</td>\n",
       "      <td>0.351</td>\n",
       "      <td>31</td>\n",
       "      <td>0</td>\n",
       "    </tr>\n",
       "    <tr>\n",
       "      <th>2</th>\n",
       "      <td>8</td>\n",
       "      <td>183</td>\n",
       "      <td>64</td>\n",
       "      <td>0</td>\n",
       "      <td>0</td>\n",
       "      <td>23.3</td>\n",
       "      <td>0.672</td>\n",
       "      <td>32</td>\n",
       "      <td>1</td>\n",
       "    </tr>\n",
       "    <tr>\n",
       "      <th>3</th>\n",
       "      <td>1</td>\n",
       "      <td>89</td>\n",
       "      <td>66</td>\n",
       "      <td>23</td>\n",
       "      <td>94</td>\n",
       "      <td>28.1</td>\n",
       "      <td>0.167</td>\n",
       "      <td>21</td>\n",
       "      <td>0</td>\n",
       "    </tr>\n",
       "    <tr>\n",
       "      <th>4</th>\n",
       "      <td>0</td>\n",
       "      <td>137</td>\n",
       "      <td>40</td>\n",
       "      <td>35</td>\n",
       "      <td>168</td>\n",
       "      <td>43.1</td>\n",
       "      <td>2.288</td>\n",
       "      <td>33</td>\n",
       "      <td>1</td>\n",
       "    </tr>\n",
       "    <tr>\n",
       "      <th>...</th>\n",
       "      <td>...</td>\n",
       "      <td>...</td>\n",
       "      <td>...</td>\n",
       "      <td>...</td>\n",
       "      <td>...</td>\n",
       "      <td>...</td>\n",
       "      <td>...</td>\n",
       "      <td>...</td>\n",
       "      <td>...</td>\n",
       "    </tr>\n",
       "    <tr>\n",
       "      <th>763</th>\n",
       "      <td>10</td>\n",
       "      <td>101</td>\n",
       "      <td>76</td>\n",
       "      <td>48</td>\n",
       "      <td>180</td>\n",
       "      <td>32.9</td>\n",
       "      <td>0.171</td>\n",
       "      <td>63</td>\n",
       "      <td>0</td>\n",
       "    </tr>\n",
       "    <tr>\n",
       "      <th>764</th>\n",
       "      <td>2</td>\n",
       "      <td>122</td>\n",
       "      <td>70</td>\n",
       "      <td>27</td>\n",
       "      <td>0</td>\n",
       "      <td>36.8</td>\n",
       "      <td>0.340</td>\n",
       "      <td>27</td>\n",
       "      <td>0</td>\n",
       "    </tr>\n",
       "    <tr>\n",
       "      <th>765</th>\n",
       "      <td>5</td>\n",
       "      <td>121</td>\n",
       "      <td>72</td>\n",
       "      <td>23</td>\n",
       "      <td>112</td>\n",
       "      <td>26.2</td>\n",
       "      <td>0.245</td>\n",
       "      <td>30</td>\n",
       "      <td>0</td>\n",
       "    </tr>\n",
       "    <tr>\n",
       "      <th>766</th>\n",
       "      <td>1</td>\n",
       "      <td>126</td>\n",
       "      <td>60</td>\n",
       "      <td>0</td>\n",
       "      <td>0</td>\n",
       "      <td>30.1</td>\n",
       "      <td>0.349</td>\n",
       "      <td>47</td>\n",
       "      <td>1</td>\n",
       "    </tr>\n",
       "    <tr>\n",
       "      <th>767</th>\n",
       "      <td>1</td>\n",
       "      <td>93</td>\n",
       "      <td>70</td>\n",
       "      <td>31</td>\n",
       "      <td>0</td>\n",
       "      <td>30.4</td>\n",
       "      <td>0.315</td>\n",
       "      <td>23</td>\n",
       "      <td>0</td>\n",
       "    </tr>\n",
       "  </tbody>\n",
       "</table>\n",
       "<p>768 rows × 9 columns</p>\n",
       "</div>"
      ],
      "text/plain": [
       "     Pregnancies  Glucose  BloodPressure  SkinThickness  Insulin   BMI  \\\n",
       "0              6      148             72             35        0  33.6   \n",
       "1              1       85             66             29        0  26.6   \n",
       "2              8      183             64              0        0  23.3   \n",
       "3              1       89             66             23       94  28.1   \n",
       "4              0      137             40             35      168  43.1   \n",
       "..           ...      ...            ...            ...      ...   ...   \n",
       "763           10      101             76             48      180  32.9   \n",
       "764            2      122             70             27        0  36.8   \n",
       "765            5      121             72             23      112  26.2   \n",
       "766            1      126             60              0        0  30.1   \n",
       "767            1       93             70             31        0  30.4   \n",
       "\n",
       "     DiabetesPedigreeFunction  Age  Outcome  \n",
       "0                       0.627   50        1  \n",
       "1                       0.351   31        0  \n",
       "2                       0.672   32        1  \n",
       "3                       0.167   21        0  \n",
       "4                       2.288   33        1  \n",
       "..                        ...  ...      ...  \n",
       "763                     0.171   63        0  \n",
       "764                     0.340   27        0  \n",
       "765                     0.245   30        0  \n",
       "766                     0.349   47        1  \n",
       "767                     0.315   23        0  \n",
       "\n",
       "[768 rows x 9 columns]"
      ]
     },
     "execution_count": 3,
     "metadata": {},
     "output_type": "execute_result"
    }
   ],
   "source": [
    "# Displaying the CSV dataset\n",
    "data"
   ]
  },
  {
   "cell_type": "code",
   "execution_count": 4,
   "id": "be3a629a",
   "metadata": {},
   "outputs": [
    {
     "data": {
      "text/plain": [
       "(768, 9)"
      ]
     },
     "execution_count": 4,
     "metadata": {},
     "output_type": "execute_result"
    }
   ],
   "source": [
    "# Displaying how many rows and columns are present in the dataset\n",
    "data.shape   "
   ]
  },
  {
   "cell_type": "code",
   "execution_count": 5,
   "id": "4a166200",
   "metadata": {},
   "outputs": [
    {
     "data": {
      "text/plain": [
       "Pregnancies                   int64\n",
       "Glucose                       int64\n",
       "BloodPressure                 int64\n",
       "SkinThickness                 int64\n",
       "Insulin                       int64\n",
       "BMI                         float64\n",
       "DiabetesPedigreeFunction    float64\n",
       "Age                           int64\n",
       "Outcome                       int64\n",
       "dtype: object"
      ]
     },
     "execution_count": 5,
     "metadata": {},
     "output_type": "execute_result"
    }
   ],
   "source": [
    "# Display the data types of each columns present here in the dataset\n",
    "data.dtypes"
   ]
  },
  {
   "cell_type": "markdown",
   "id": "666a3ecf",
   "metadata": {},
   "source": [
    "# Data Preprocessing"
   ]
  },
  {
   "cell_type": "code",
   "execution_count": 6,
   "id": "554d3828",
   "metadata": {},
   "outputs": [
    {
     "name": "stdout",
     "output_type": "stream",
     "text": [
      "<class 'pandas.core.frame.DataFrame'>\n",
      "RangeIndex: 768 entries, 0 to 767\n",
      "Data columns (total 9 columns):\n",
      " #   Column                    Non-Null Count  Dtype  \n",
      "---  ------                    --------------  -----  \n",
      " 0   Pregnancies               768 non-null    int64  \n",
      " 1   Glucose                   768 non-null    int64  \n",
      " 2   BloodPressure             768 non-null    int64  \n",
      " 3   SkinThickness             768 non-null    int64  \n",
      " 4   Insulin                   768 non-null    int64  \n",
      " 5   BMI                       768 non-null    float64\n",
      " 6   DiabetesPedigreeFunction  768 non-null    float64\n",
      " 7   Age                       768 non-null    int64  \n",
      " 8   Outcome                   768 non-null    int64  \n",
      "dtypes: float64(2), int64(7)\n",
      "memory usage: 54.1 KB\n"
     ]
    }
   ],
   "source": [
    "# Display everything about the dataset in one table\n",
    "data.info()"
   ]
  },
  {
   "cell_type": "code",
   "execution_count": 7,
   "id": "aee6fa84",
   "metadata": {},
   "outputs": [
    {
     "data": {
      "text/html": [
       "<div>\n",
       "<style scoped>\n",
       "    .dataframe tbody tr th:only-of-type {\n",
       "        vertical-align: middle;\n",
       "    }\n",
       "\n",
       "    .dataframe tbody tr th {\n",
       "        vertical-align: top;\n",
       "    }\n",
       "\n",
       "    .dataframe thead th {\n",
       "        text-align: right;\n",
       "    }\n",
       "</style>\n",
       "<table border=\"1\" class=\"dataframe\">\n",
       "  <thead>\n",
       "    <tr style=\"text-align: right;\">\n",
       "      <th></th>\n",
       "      <th>Pregnancies</th>\n",
       "      <th>Glucose</th>\n",
       "      <th>BloodPressure</th>\n",
       "      <th>SkinThickness</th>\n",
       "      <th>Insulin</th>\n",
       "      <th>BMI</th>\n",
       "      <th>DiabetesPedigreeFunction</th>\n",
       "      <th>Age</th>\n",
       "      <th>Outcome</th>\n",
       "    </tr>\n",
       "  </thead>\n",
       "  <tbody>\n",
       "    <tr>\n",
       "      <th>0</th>\n",
       "      <td>6</td>\n",
       "      <td>148</td>\n",
       "      <td>72</td>\n",
       "      <td>35</td>\n",
       "      <td>0</td>\n",
       "      <td>33.6</td>\n",
       "      <td>0.627</td>\n",
       "      <td>50</td>\n",
       "      <td>1</td>\n",
       "    </tr>\n",
       "    <tr>\n",
       "      <th>1</th>\n",
       "      <td>1</td>\n",
       "      <td>85</td>\n",
       "      <td>66</td>\n",
       "      <td>29</td>\n",
       "      <td>0</td>\n",
       "      <td>26.6</td>\n",
       "      <td>0.351</td>\n",
       "      <td>31</td>\n",
       "      <td>0</td>\n",
       "    </tr>\n",
       "    <tr>\n",
       "      <th>2</th>\n",
       "      <td>8</td>\n",
       "      <td>183</td>\n",
       "      <td>64</td>\n",
       "      <td>0</td>\n",
       "      <td>0</td>\n",
       "      <td>23.3</td>\n",
       "      <td>0.672</td>\n",
       "      <td>32</td>\n",
       "      <td>1</td>\n",
       "    </tr>\n",
       "    <tr>\n",
       "      <th>3</th>\n",
       "      <td>1</td>\n",
       "      <td>89</td>\n",
       "      <td>66</td>\n",
       "      <td>23</td>\n",
       "      <td>94</td>\n",
       "      <td>28.1</td>\n",
       "      <td>0.167</td>\n",
       "      <td>21</td>\n",
       "      <td>0</td>\n",
       "    </tr>\n",
       "    <tr>\n",
       "      <th>4</th>\n",
       "      <td>0</td>\n",
       "      <td>137</td>\n",
       "      <td>40</td>\n",
       "      <td>35</td>\n",
       "      <td>168</td>\n",
       "      <td>43.1</td>\n",
       "      <td>2.288</td>\n",
       "      <td>33</td>\n",
       "      <td>1</td>\n",
       "    </tr>\n",
       "  </tbody>\n",
       "</table>\n",
       "</div>"
      ],
      "text/plain": [
       "   Pregnancies  Glucose  BloodPressure  SkinThickness  Insulin   BMI  \\\n",
       "0            6      148             72             35        0  33.6   \n",
       "1            1       85             66             29        0  26.6   \n",
       "2            8      183             64              0        0  23.3   \n",
       "3            1       89             66             23       94  28.1   \n",
       "4            0      137             40             35      168  43.1   \n",
       "\n",
       "   DiabetesPedigreeFunction  Age  Outcome  \n",
       "0                     0.627   50        1  \n",
       "1                     0.351   31        0  \n",
       "2                     0.672   32        1  \n",
       "3                     0.167   21        0  \n",
       "4                     2.288   33        1  "
      ]
     },
     "execution_count": 7,
     "metadata": {},
     "output_type": "execute_result"
    }
   ],
   "source": [
    "#Used for only displaying the top 5 rows of the dataset \n",
    "data.head()"
   ]
  },
  {
   "cell_type": "code",
   "execution_count": 8,
   "id": "b0970277",
   "metadata": {},
   "outputs": [
    {
     "data": {
      "text/html": [
       "<div>\n",
       "<style scoped>\n",
       "    .dataframe tbody tr th:only-of-type {\n",
       "        vertical-align: middle;\n",
       "    }\n",
       "\n",
       "    .dataframe tbody tr th {\n",
       "        vertical-align: top;\n",
       "    }\n",
       "\n",
       "    .dataframe thead th {\n",
       "        text-align: right;\n",
       "    }\n",
       "</style>\n",
       "<table border=\"1\" class=\"dataframe\">\n",
       "  <thead>\n",
       "    <tr style=\"text-align: right;\">\n",
       "      <th></th>\n",
       "      <th>Pregnancies</th>\n",
       "      <th>Glucose</th>\n",
       "      <th>BloodPressure</th>\n",
       "      <th>SkinThickness</th>\n",
       "      <th>Insulin</th>\n",
       "      <th>BMI</th>\n",
       "      <th>DiabetesPedigreeFunction</th>\n",
       "      <th>Age</th>\n",
       "      <th>Outcome</th>\n",
       "    </tr>\n",
       "  </thead>\n",
       "  <tbody>\n",
       "    <tr>\n",
       "      <th>763</th>\n",
       "      <td>10</td>\n",
       "      <td>101</td>\n",
       "      <td>76</td>\n",
       "      <td>48</td>\n",
       "      <td>180</td>\n",
       "      <td>32.9</td>\n",
       "      <td>0.171</td>\n",
       "      <td>63</td>\n",
       "      <td>0</td>\n",
       "    </tr>\n",
       "    <tr>\n",
       "      <th>764</th>\n",
       "      <td>2</td>\n",
       "      <td>122</td>\n",
       "      <td>70</td>\n",
       "      <td>27</td>\n",
       "      <td>0</td>\n",
       "      <td>36.8</td>\n",
       "      <td>0.340</td>\n",
       "      <td>27</td>\n",
       "      <td>0</td>\n",
       "    </tr>\n",
       "    <tr>\n",
       "      <th>765</th>\n",
       "      <td>5</td>\n",
       "      <td>121</td>\n",
       "      <td>72</td>\n",
       "      <td>23</td>\n",
       "      <td>112</td>\n",
       "      <td>26.2</td>\n",
       "      <td>0.245</td>\n",
       "      <td>30</td>\n",
       "      <td>0</td>\n",
       "    </tr>\n",
       "    <tr>\n",
       "      <th>766</th>\n",
       "      <td>1</td>\n",
       "      <td>126</td>\n",
       "      <td>60</td>\n",
       "      <td>0</td>\n",
       "      <td>0</td>\n",
       "      <td>30.1</td>\n",
       "      <td>0.349</td>\n",
       "      <td>47</td>\n",
       "      <td>1</td>\n",
       "    </tr>\n",
       "    <tr>\n",
       "      <th>767</th>\n",
       "      <td>1</td>\n",
       "      <td>93</td>\n",
       "      <td>70</td>\n",
       "      <td>31</td>\n",
       "      <td>0</td>\n",
       "      <td>30.4</td>\n",
       "      <td>0.315</td>\n",
       "      <td>23</td>\n",
       "      <td>0</td>\n",
       "    </tr>\n",
       "  </tbody>\n",
       "</table>\n",
       "</div>"
      ],
      "text/plain": [
       "     Pregnancies  Glucose  BloodPressure  SkinThickness  Insulin   BMI  \\\n",
       "763           10      101             76             48      180  32.9   \n",
       "764            2      122             70             27        0  36.8   \n",
       "765            5      121             72             23      112  26.2   \n",
       "766            1      126             60              0        0  30.1   \n",
       "767            1       93             70             31        0  30.4   \n",
       "\n",
       "     DiabetesPedigreeFunction  Age  Outcome  \n",
       "763                     0.171   63        0  \n",
       "764                     0.340   27        0  \n",
       "765                     0.245   30        0  \n",
       "766                     0.349   47        1  \n",
       "767                     0.315   23        0  "
      ]
     },
     "execution_count": 8,
     "metadata": {},
     "output_type": "execute_result"
    }
   ],
   "source": [
    "#Used for only displaying the last 5 rows of the dataset\n",
    "data.tail()"
   ]
  },
  {
   "cell_type": "code",
   "execution_count": 9,
   "id": "3a7307e9",
   "metadata": {},
   "outputs": [
    {
     "data": {
      "text/plain": [
       "Index(['Pregnancies', 'Glucose', 'BloodPressure', 'SkinThickness', 'Insulin',\n",
       "       'BMI', 'DiabetesPedigreeFunction', 'Age', 'Outcome'],\n",
       "      dtype='object')"
      ]
     },
     "execution_count": 9,
     "metadata": {},
     "output_type": "execute_result"
    }
   ],
   "source": [
    "#Display only the number of columns a dataset contain\n",
    "data.columns"
   ]
  },
  {
   "cell_type": "code",
   "execution_count": 10,
   "id": "75b84748",
   "metadata": {},
   "outputs": [
    {
     "data": {
      "text/plain": [
       "Pregnancies                 0\n",
       "Glucose                     0\n",
       "BloodPressure               0\n",
       "SkinThickness               0\n",
       "Insulin                     0\n",
       "BMI                         0\n",
       "DiabetesPedigreeFunction    0\n",
       "Age                         0\n",
       "Outcome                     0\n",
       "dtype: int64"
      ]
     },
     "execution_count": 10,
     "metadata": {},
     "output_type": "execute_result"
    }
   ],
   "source": [
    "# Checking whether there are any null value present or not\n",
    "data.isnull().sum()"
   ]
  },
  {
   "cell_type": "code",
   "execution_count": 11,
   "id": "1d664b61",
   "metadata": {},
   "outputs": [
    {
     "data": {
      "image/png": "[encoded data removed]",
      "text/plain": [
       "<Figure size 1296x864 with 9 Axes>"
      ]
     },
     "metadata": {
      "needs_background": "light"
     },
     "output_type": "display_data"
    }
   ],
   "source": [
    "#histograms\n",
    "data.hist(figsize=(18,12))\n",
    "plt.show()"
   ]
  },
  {
   "cell_type": "code",
   "execution_count": 12,
   "id": "ba790bdc",
   "metadata": {},
   "outputs": [
    {
     "name": "stdout",
     "output_type": "stream",
     "text": [
      "Number of patients who are suffer from Diabetes are: 500(65.10%)\n",
      "Number of patients who are do not suffer from Diabetes are: 268(34.90%)\n"
     ]
    },
    {
     "data": {
      "image/png": "[encoded data removed]",
      "text/plain": [
       "<Figure size 432x288 with 1 Axes>"
      ]
     },
     "metadata": {
      "needs_background": "light"
     },
     "output_type": "display_data"
    }
   ],
   "source": [
    "sns.countplot(data=data, x = 'Outcome', label='Count')\n",
    "D, ND = data['Outcome'].value_counts()\n",
    "print('Number of patients who are suffer from Diabetes are: {0}({1:2.2f}%)'.format(D,(D/(D+ND))*100))\n",
    "print('Number of patients who are do not suffer from Diabetes are: {0}({1:2.2f}%)'.format(ND,(ND/(D+ND))*100))"
   ]
  },
  {
   "cell_type": "code",
   "execution_count": 13,
   "id": "b365c198",
   "metadata": {},
   "outputs": [
    {
     "data": {
      "image/png": "[encoded data removed]",
      "text/plain": [
       "<Figure size 432x288 with 1 Axes>"
      ]
     },
     "metadata": {
      "needs_background": "light"
     },
     "output_type": "display_data"
    }
   ],
   "source": [
    "sns.barplot(x=data.Pregnancies.value_counts().index,y=data.Pregnancies.value_counts().values)\n",
    "plt.xlabel('Pregnancies')\n",
    "plt.ylabel('COUNT')\n",
    "plt.show()"
   ]
  },
  {
   "cell_type": "code",
   "execution_count": 14,
   "id": "034a22b9",
   "metadata": {},
   "outputs": [
    {
     "data": {
      "text/plain": [
       "<AxesSubplot:xlabel='SkinThickness'>"
      ]
     },
     "execution_count": 14,
     "metadata": {},
     "output_type": "execute_result"
    },
    {
     "data": {
      "image/png": "[encoded data removed]",
      "text/plain": [
       "<Figure size 1008x720 with 6 Axes>"
      ]
     },
     "metadata": {
      "needs_background": "light"
     },
     "output_type": "display_data"
    }
   ],
   "source": [
    "plt.figure(figsize=(14,10))\n",
    "sns.set_style(style='whitegrid')\n",
    "plt.subplot(2,3,1)\n",
    "sns.boxplot(x='Glucose',data=data)\n",
    "plt.subplot(2,3,2)\n",
    "sns.boxplot(x='BloodPressure',data=data)\n",
    "plt.subplot(2,3,3)\n",
    "sns.boxplot(x='Insulin',data=data)\n",
    "plt.subplot(2,3,4)\n",
    "sns.boxplot(x='BMI',data=data)\n",
    "plt.subplot(2,3,5)\n",
    "sns.boxplot(x='Age',data=data)\n",
    "plt.subplot(2,3,6)\n",
    "sns.boxplot(x='SkinThickness',data=data)"
   ]
  },
  {
   "cell_type": "code",
   "execution_count": 15,
   "id": "10c2edf6",
   "metadata": {},
   "outputs": [
    {
     "data": {
      "text/plain": [
       "<AxesSubplot:>"
      ]
     },
     "execution_count": 15,
     "metadata": {},
     "output_type": "execute_result"
    },
    {
     "data": {
      "image/png": "[encoded data removed]",
      "text/plain": [
       "<Figure size 864x864 with 2 Axes>"
      ]
     },
     "metadata": {},
     "output_type": "display_data"
    }
   ],
   "source": [
    "#corelation matrix\n",
    "plt.figure(figsize = (12,12))\n",
    "sns.heatmap(data.corr(), annot =True)"
   ]
  },
  {
   "cell_type": "markdown",
   "id": "377b9a12",
   "metadata": {},
   "source": [
    "# Training and Testing Data"
   ]
  },
  {
   "cell_type": "code",
   "execution_count": 16,
   "id": "144f0225",
   "metadata": {},
   "outputs": [
    {
     "name": "stdout",
     "output_type": "stream",
     "text": [
      "691\n",
      "77\n",
      "691\n",
      "77\n"
     ]
    }
   ],
   "source": [
    "#train_test_splitting of the dataset\n",
    "x = data.drop(columns = 'Outcome')\n",
    "# Getting Predicting Value\n",
    "y = data['Outcome']\n",
    "from sklearn.model_selection import train_test_split \n",
    "x_train,x_test,y_train,y_test = train_test_split(x,y,test_size=0.1,random_state=0)\n",
    "print(len(x_train))\n",
    "print(len(x_test))\n",
    "print(len(y_train))\n",
    "print(len(y_test))"
   ]
  },
  {
   "cell_type": "markdown",
   "id": "d2d7ab17",
   "metadata": {},
   "source": [
    "# Model Building"
   ]
  },
  {
   "cell_type": "markdown",
   "id": "2ff1d510",
   "metadata": {},
   "source": [
    "# 1 Logistic Regression"
   ]
  },
  {
   "cell_type": "code",
   "execution_count": 17,
   "id": "18a0b0d2",
   "metadata": {},
   "outputs": [
    {
     "name": "stdout",
     "output_type": "stream",
     "text": [
      "------------------------------------------------------------------------------------------------------------------------\n",
      "Logistic Regression Training Score: \n",
      " 76.99\n",
      "------------------------------------------------------------------------------------------------------------------------\n",
      "Logistic Regression Test Score: \n",
      " 87.01\n",
      "------------------------------------------------------------------------------------------------------------------------\n",
      "Coefficient: \n",
      " [[ 1.16362634e-01  3.33819080e-02 -1.37896163e-02  6.21453466e-04\n",
      "  -1.16996204e-03  9.26125195e-02  9.93822853e-01  1.82877287e-02]]\n",
      "------------------------------------------------------------------------------------------------------------------------\n",
      "Intercept: \n",
      " [-8.32965412]\n",
      "------------------------------------------------------------------------------------------------------------------------\n",
      "Mean Squared Error:\n",
      " 0.12987012987012986\n",
      "------------------------------------------------------------------------------------------------------------------------\n",
      "R2 score is:\n",
      " 0.41930618401206665\n",
      "------------------------------------------------------------------------------------------------------------------------\n",
      "Accuracy:\n",
      " 87.01\n",
      "------------------------------------------------------------------------------------------------------------------------\n",
      "Confusion Matrix:\n",
      " [[48  3]\n",
      " [ 7 19]]\n",
      "------------------------------------------------------------------------------------------------------------------------\n",
      "Classification Report is:\n",
      "               precision    recall  f1-score   support\n",
      "\n",
      "           0       0.87      0.94      0.91        51\n",
      "           1       0.86      0.73      0.79        26\n",
      "\n",
      "    accuracy                           0.87        77\n",
      "   macro avg       0.87      0.84      0.85        77\n",
      "weighted avg       0.87      0.87      0.87        77\n",
      "\n",
      "------------------------------------------------------------------------------------------------------------------------\n"
     ]
    },
    {
     "data": {
      "text/plain": [
       "<AxesSubplot:>"
      ]
     },
     "execution_count": 17,
     "metadata": {},
     "output_type": "execute_result"
    },
    {
     "data": {
      "image/png": "[encoded data removed]",
      "text/plain": [
       "<Figure size 432x288 with 2 Axes>"
      ]
     },
     "metadata": {},
     "output_type": "display_data"
    }
   ],
   "source": [
    "from sklearn.linear_model import LogisticRegression\n",
    "from sklearn.metrics import accuracy_score,classification_report,confusion_matrix\n",
    "from sklearn.metrics import r2_score\n",
    "from sklearn.metrics import mean_squared_error\n",
    "#Creating logistic regression object\n",
    "lr = LogisticRegression()\n",
    "#Train the model using the training sets and check score\n",
    "lr.fit(x_train,y_train) \n",
    "#Predict the Output\n",
    "y_pred=lr.predict(x_test)\n",
    "y_score1= round(lr.score(x_train,y_train)*100,2)\n",
    "y_score1_test=round(lr.score(x_test,y_test)*100,2)\n",
    "y_accuracy1=round(accuracy_score(y_test,y_pred)*100,2)\n",
    "print('------------------------------------------------------------------------------------------------------------------------')\n",
    "print('Logistic Regression Training Score: \\n', y_score1)\n",
    "print('------------------------------------------------------------------------------------------------------------------------')\n",
    "print('Logistic Regression Test Score: \\n', y_score1_test)\n",
    "print('------------------------------------------------------------------------------------------------------------------------')\n",
    "print('Coefficient: \\n', lr.coef_)\n",
    "print('------------------------------------------------------------------------------------------------------------------------')\n",
    "print('Intercept: \\n', lr.intercept_)\n",
    "print('------------------------------------------------------------------------------------------------------------------------')\n",
    "print('Mean Squared Error:\\n',mean_squared_error(y_test,y_pred))\n",
    "print('------------------------------------------------------------------------------------------------------------------------')\n",
    "print('R2 score is:\\n',r2_score(y_test,y_pred))\n",
    "print('------------------------------------------------------------------------------------------------------------------------')\n",
    "print('Accuracy:\\n', y_accuracy1)\n",
    "print('------------------------------------------------------------------------------------------------------------------------')\n",
    "print('Confusion Matrix:\\n',confusion_matrix(y_test,y_pred))\n",
    "print('------------------------------------------------------------------------------------------------------------------------')\n",
    "print('Classification Report is:\\n',classification_report(y_test,y_pred))\n",
    "print('------------------------------------------------------------------------------------------------------------------------')\n",
    "sns.heatmap(confusion_matrix(y_test,y_pred),annot=True,fmt=\"d\")"
   ]
  },
  {
   "cell_type": "markdown",
   "id": "7c4fd3a9",
   "metadata": {},
   "source": [
    "# 2 KNN(K Nearest Neighbor)"
   ]
  },
  {
   "cell_type": "code",
   "execution_count": 18,
   "id": "e4280fdc",
   "metadata": {},
   "outputs": [
    {
     "name": "stdout",
     "output_type": "stream",
     "text": [
      "------------------------------------------------------------------------------------------------------------------------\n",
      "KNN Training Score: \n",
      " 78.15\n",
      "------------------------------------------------------------------------------------------------------------------------\n",
      "KNN Test Score: \n",
      " 75.32\n",
      "------------------------------------------------------------------------------------------------------------------------\n",
      "Accuracy:\n",
      " 75.32\n",
      "------------------------------------------------------------------------------------------------------------------------\n",
      "Confusion Matrix:\n",
      " [[43  8]\n",
      " [11 15]]\n",
      "------------------------------------------------------------------------------------------------------------------------\n",
      "Classification Report is:\n",
      "               precision    recall  f1-score   support\n",
      "\n",
      "           0       0.80      0.84      0.82        51\n",
      "           1       0.65      0.58      0.61        26\n",
      "\n",
      "    accuracy                           0.75        77\n",
      "   macro avg       0.72      0.71      0.72        77\n",
      "weighted avg       0.75      0.75      0.75        77\n",
      "\n",
      "------------------------------------------------------------------------------------------------------------------------\n"
     ]
    },
    {
     "data": {
      "text/plain": [
       "<AxesSubplot:>"
      ]
     },
     "execution_count": 18,
     "metadata": {},
     "output_type": "execute_result"
    },
    {
     "data": {
      "image/png": "[encoded data removed]",
      "text/plain": [
       "<Figure size 432x288 with 2 Axes>"
      ]
     },
     "metadata": {},
     "output_type": "display_data"
    }
   ],
   "source": [
    "from sklearn.neighbors import KNeighborsClassifier\n",
    "from sklearn.metrics import accuracy_score,confusion_matrix\n",
    "#Creating KNN object\n",
    "knn= KNeighborsClassifier(n_neighbors=7)\n",
    "#Train the model using the training sets and check score\n",
    "knn.fit(x_train,y_train)\n",
    "#Predict the Output\n",
    "y_pred= knn.predict(x_test)\n",
    "y_score2 = round(knn.score(x_train, y_train) * 100,2)\n",
    "y_score2_test = round(knn.score(x_test, y_test) * 100,2)\n",
    "y_accuracy2=round(accuracy_score(y_test,y_pred)*100,2)\n",
    "print('------------------------------------------------------------------------------------------------------------------------')\n",
    "print('KNN Training Score: \\n', y_score2)\n",
    "print('------------------------------------------------------------------------------------------------------------------------')\n",
    "print('KNN Test Score: \\n', y_score2_test)\n",
    "print('------------------------------------------------------------------------------------------------------------------------')\n",
    "print('Accuracy:\\n', y_accuracy2)\n",
    "print('------------------------------------------------------------------------------------------------------------------------')\n",
    "print('Confusion Matrix:\\n',confusion_matrix(y_test,y_pred))\n",
    "print('------------------------------------------------------------------------------------------------------------------------')\n",
    "print('Classification Report is:\\n',classification_report(y_test,y_pred))\n",
    "print('------------------------------------------------------------------------------------------------------------------------')\n",
    "sns.heatmap(confusion_matrix(y_test,y_pred),annot=True,fmt=\"d\")"
   ]
  },
  {
   "cell_type": "markdown",
   "id": "3c61de21",
   "metadata": {},
   "source": [
    "# 3 Support vector machine(SVM)"
   ]
  },
  {
   "cell_type": "code",
   "execution_count": 19,
   "id": "4218b760",
   "metadata": {},
   "outputs": [
    {
     "name": "stdout",
     "output_type": "stream",
     "text": [
      "------------------------------------------------------------------------------------------------------------------------\n",
      "SVM Training Score: \n",
      " 75.25\n",
      "------------------------------------------------------------------------------------------------------------------------\n",
      "SVM Test Score: \n",
      " 85.71\n",
      "------------------------------------------------------------------------------------------------------------------------\n",
      "Accuracy:\n",
      " 85.71\n",
      "------------------------------------------------------------------------------------------------------------------------\n",
      "Confusion Matrix:\n",
      " [[48  3]\n",
      " [ 8 18]]\n",
      "------------------------------------------------------------------------------------------------------------------------\n",
      "Classification Report is:\n",
      "               precision    recall  f1-score   support\n",
      "\n",
      "           0       0.86      0.94      0.90        51\n",
      "           1       0.86      0.69      0.77        26\n",
      "\n",
      "    accuracy                           0.86        77\n",
      "   macro avg       0.86      0.82      0.83        77\n",
      "weighted avg       0.86      0.86      0.85        77\n",
      "\n",
      "------------------------------------------------------------------------------------------------------------------------\n"
     ]
    },
    {
     "data": {
      "text/plain": [
       "<AxesSubplot:>"
      ]
     },
     "execution_count": 19,
     "metadata": {},
     "output_type": "execute_result"
    },
    {
     "data": {
      "image/png": "[encoded data removed]",
      "text/plain": [
       "<Figure size 432x288 with 2 Axes>"
      ]
     },
     "metadata": {},
     "output_type": "display_data"
    }
   ],
   "source": [
    "from sklearn.svm import SVC\n",
    "from sklearn.metrics import accuracy_score,confusion_matrix\n",
    "#Creating SVM object\n",
    "svm= SVC(random_state=1)\n",
    "#Train the model using the training sets and check score\n",
    "svm.fit(x_train,y_train)\n",
    "#Predict the Output\n",
    "y_pred= svm.predict(x_test)\n",
    "y_score3 = round(svm.score(x_train, y_train) * 100,2)\n",
    "y_score3_test = round(svm.score(x_test, y_test) * 100,2)\n",
    "y_accuracy3=round(accuracy_score(y_test,y_pred)*100,2)\n",
    "print('------------------------------------------------------------------------------------------------------------------------')\n",
    "print('SVM Training Score: \\n', y_score3)\n",
    "print('------------------------------------------------------------------------------------------------------------------------')\n",
    "print('SVM Test Score: \\n', y_score3_test)\n",
    "print('------------------------------------------------------------------------------------------------------------------------')\n",
    "print('Accuracy:\\n', y_accuracy3)\n",
    "print('------------------------------------------------------------------------------------------------------------------------')\n",
    "print('Confusion Matrix:\\n',confusion_matrix(y_test,y_pred))\n",
    "print('------------------------------------------------------------------------------------------------------------------------')\n",
    "print('Classification Report is:\\n',classification_report(y_test,y_pred))\n",
    "print('------------------------------------------------------------------------------------------------------------------------')\n",
    "sns.heatmap(confusion_matrix(y_test,y_pred),annot=True,fmt=\"d\")"
   ]
  },
  {
   "cell_type": "markdown",
   "id": "c771f4ad",
   "metadata": {},
   "source": [
    "# 4 Gaussian Naive Bayes(GNB)"
   ]
  },
  {
   "cell_type": "code",
   "execution_count": 20,
   "id": "6bdc7233",
   "metadata": {},
   "outputs": [
    {
     "name": "stdout",
     "output_type": "stream",
     "text": [
      "------------------------------------------------------------------------------------------------------------------------\n",
      "GNB Training Score: \n",
      " 75.4\n",
      "------------------------------------------------------------------------------------------------------------------------\n",
      "GNB Test Score: \n",
      " 80.52\n",
      "------------------------------------------------------------------------------------------------------------------------\n",
      "Accuracy:\n",
      " 80.52\n",
      "------------------------------------------------------------------------------------------------------------------------\n",
      "Confusion Matrix:\n",
      " [[43  8]\n",
      " [ 7 19]]\n",
      "------------------------------------------------------------------------------------------------------------------------\n",
      "Classification Report is:\n",
      "               precision    recall  f1-score   support\n",
      "\n",
      "           0       0.86      0.84      0.85        51\n",
      "           1       0.70      0.73      0.72        26\n",
      "\n",
      "    accuracy                           0.81        77\n",
      "   macro avg       0.78      0.79      0.78        77\n",
      "weighted avg       0.81      0.81      0.81        77\n",
      "\n",
      "------------------------------------------------------------------------------------------------------------------------\n"
     ]
    },
    {
     "data": {
      "text/plain": [
       "<AxesSubplot:>"
      ]
     },
     "execution_count": 20,
     "metadata": {},
     "output_type": "execute_result"
    },
    {
     "data": {
      "image/png": "[encoded data removed]",
      "text/plain": [
       "<Figure size 432x288 with 2 Axes>"
      ]
     },
     "metadata": {},
     "output_type": "display_data"
    }
   ],
   "source": [
    "from sklearn.naive_bayes import GaussianNB\n",
    "from sklearn.metrics import accuracy_score,confusion_matrix\n",
    "#Creating GNB object\n",
    "gnb = GaussianNB()\n",
    "#Train the model using the training sets and check score\n",
    "gnb.fit(x_train,y_train)\n",
    "#Predict the Output\n",
    "y_pred=gnb.predict(x_test)\n",
    "y_score4 = round(gnb.score(x_train, y_train) * 100,2)\n",
    "y_score4_test = round(gnb.score(x_test, y_test) * 100,2)\n",
    "y_accuracy4=round(accuracy_score(y_test,y_pred)*100,2)\n",
    "print('------------------------------------------------------------------------------------------------------------------------')\n",
    "print('GNB Training Score: \\n', y_score4)\n",
    "print('------------------------------------------------------------------------------------------------------------------------')\n",
    "print('GNB Test Score: \\n', y_score4_test)\n",
    "print('------------------------------------------------------------------------------------------------------------------------')\n",
    "print('Accuracy:\\n', y_accuracy4)\n",
    "print('------------------------------------------------------------------------------------------------------------------------')\n",
    "print('Confusion Matrix:\\n',confusion_matrix(y_test,y_pred))\n",
    "print('------------------------------------------------------------------------------------------------------------------------')\n",
    "print('Classification Report is:\\n',classification_report(y_test,y_pred))\n",
    "print('------------------------------------------------------------------------------------------------------------------------')\n",
    "sns.heatmap(confusion_matrix(y_test,y_pred),annot=True,fmt=\"d\")"
   ]
  },
  {
   "cell_type": "markdown",
   "id": "999d4f0c",
   "metadata": {},
   "source": [
    "# 4 Decision Tree"
   ]
  },
  {
   "cell_type": "code",
   "execution_count": 21,
   "id": "e6d3e67d",
   "metadata": {},
   "outputs": [
    {
     "name": "stdout",
     "output_type": "stream",
     "text": [
      "------------------------------------------------------------------------------------------------------------------------\n",
      "Decision Tree Training Score: \n",
      " 83.79\n",
      "------------------------------------------------------------------------------------------------------------------------\n",
      "Decision Tree Test Score: \n",
      " 77.92\n",
      "------------------------------------------------------------------------------------------------------------------------\n",
      "Accuracy:\n",
      " 77.92\n",
      "------------------------------------------------------------------------------------------------------------------------\n",
      "Confusion Matrix:\n",
      " [[42  9]\n",
      " [ 8 18]]\n",
      "------------------------------------------------------------------------------------------------------------------------\n",
      "Classification Report is:\n",
      "               precision    recall  f1-score   support\n",
      "\n",
      "           0       0.84      0.82      0.83        51\n",
      "           1       0.67      0.69      0.68        26\n",
      "\n",
      "    accuracy                           0.78        77\n",
      "   macro avg       0.75      0.76      0.76        77\n",
      "weighted avg       0.78      0.78      0.78        77\n",
      "\n",
      "------------------------------------------------------------------------------------------------------------------------\n"
     ]
    },
    {
     "data": {
      "text/plain": [
       "<AxesSubplot:>"
      ]
     },
     "execution_count": 21,
     "metadata": {},
     "output_type": "execute_result"
    },
    {
     "data": {
      "image/png": "[encoded data removed]",
      "text/plain": [
       "<Figure size 432x288 with 2 Axes>"
      ]
     },
     "metadata": {},
     "output_type": "display_data"
    }
   ],
   "source": [
    "from sklearn.tree import DecisionTreeClassifier\n",
    "from sklearn.metrics import accuracy_score,confusion_matrix\n",
    "dtree = DecisionTreeClassifier(max_depth=6, random_state=123,criterion='entropy')\n",
    "dtree.fit(x_train,y_train)\n",
    "y_pred=dtree.predict(x_test)\n",
    "y_score5 = round(dtree.score(x_train, y_train) * 100,2)\n",
    "y_score5_test = round(dtree.score(x_test, y_test) * 100,2)\n",
    "y_accuracy5=round(accuracy_score(y_test,y_pred)*100,2)\n",
    "print('------------------------------------------------------------------------------------------------------------------------')\n",
    "print('Decision Tree Training Score: \\n', y_score5)\n",
    "print('------------------------------------------------------------------------------------------------------------------------')\n",
    "print('Decision Tree Test Score: \\n', y_score5_test)\n",
    "print('------------------------------------------------------------------------------------------------------------------------')\n",
    "print('Accuracy:\\n', y_accuracy5)\n",
    "print('------------------------------------------------------------------------------------------------------------------------')\n",
    "print('Confusion Matrix:\\n',confusion_matrix(y_test,y_pred))\n",
    "print('------------------------------------------------------------------------------------------------------------------------')\n",
    "print('Classification Report is:\\n',classification_report(y_test,y_pred))\n",
    "print('------------------------------------------------------------------------------------------------------------------------')\n",
    "sns.heatmap(confusion_matrix(y_test,y_pred),annot=True,fmt=\"d\")"
   ]
  },
  {
   "cell_type": "markdown",
   "id": "15b7d76c",
   "metadata": {},
   "source": [
    "# 6 Random Forest"
   ]
  },
  {
   "cell_type": "code",
   "execution_count": 22,
   "id": "b7b6953f",
   "metadata": {},
   "outputs": [
    {
     "name": "stdout",
     "output_type": "stream",
     "text": [
      "------------------------------------------------------------------------------------------------------------------------\n",
      "Random Forest Training Score: \n",
      " 100.0\n",
      "------------------------------------------------------------------------------------------------------------------------\n",
      "Random Forest Test Score: \n",
      " 80.52\n",
      "------------------------------------------------------------------------------------------------------------------------\n",
      "Accuracy:\n",
      " 80.52\n",
      "------------------------------------------------------------------------------------------------------------------------\n",
      "Confusion Matrix:\n",
      " [[44  7]\n",
      " [ 8 18]]\n",
      "------------------------------------------------------------------------------------------------------------------------\n",
      "Classification Report is:\n",
      "               precision    recall  f1-score   support\n",
      "\n",
      "           0       0.85      0.86      0.85        51\n",
      "           1       0.72      0.69      0.71        26\n",
      "\n",
      "    accuracy                           0.81        77\n",
      "   macro avg       0.78      0.78      0.78        77\n",
      "weighted avg       0.80      0.81      0.80        77\n",
      "\n",
      "------------------------------------------------------------------------------------------------------------------------\n"
     ]
    },
    {
     "data": {
      "text/plain": [
       "<AxesSubplot:>"
      ]
     },
     "execution_count": 22,
     "metadata": {},
     "output_type": "execute_result"
    },
    {
     "data": {
      "image/png": "[encoded data removed]",
      "text/plain": [
       "<Figure size 432x288 with 2 Axes>"
      ]
     },
     "metadata": {},
     "output_type": "display_data"
    }
   ],
   "source": [
    "from sklearn.ensemble import RandomForestClassifier\n",
    "from sklearn.metrics import accuracy_score,confusion_matrix\n",
    "rfc=RandomForestClassifier()\n",
    "rfc.fit(x_train,y_train)\n",
    "y_pred=rfc.predict(x_test)\n",
    "y_score6 = round(rfc.score(x_train, y_train) * 100,2)\n",
    "y_score6_test = round(rfc.score(x_test, y_test) * 100,2)\n",
    "y_accuracy6=round(accuracy_score(y_test,y_pred)*100,2)\n",
    "print('------------------------------------------------------------------------------------------------------------------------')\n",
    "print('Random Forest Training Score: \\n', y_score6)\n",
    "print('------------------------------------------------------------------------------------------------------------------------')\n",
    "print('Random Forest Test Score: \\n', y_score6_test)\n",
    "print('------------------------------------------------------------------------------------------------------------------------')\n",
    "print('Accuracy:\\n', y_accuracy6)\n",
    "print('------------------------------------------------------------------------------------------------------------------------')\n",
    "print('Confusion Matrix:\\n',confusion_matrix(y_test,y_pred))\n",
    "print('------------------------------------------------------------------------------------------------------------------------')\n",
    "print('Classification Report is:\\n',classification_report(y_test,y_pred))\n",
    "print('------------------------------------------------------------------------------------------------------------------------')\n",
    "sns.heatmap(confusion_matrix(y_test,y_pred),annot=True,fmt=\"d\")"
   ]
  }
 ],
 "metadata": {
  "kernelspec": {
   "display_name": "Python 3",
   "language": "python",
   "name": "python3"
  },
  "language_info": {
   "codemirror_mode": {
    "name": "ipython",
    "version": 3
   },
   "file_extension": ".py",
   "mimetype": "text/x-python",
   "name": "python",
   "nbconvert_exporter": "python",
   "pygments_lexer": "ipython3",
   "version": "3.8.8"
  }
 },
 "nbformat": 4,
 "nbformat_minor": 5
}
